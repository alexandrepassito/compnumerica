{
 "cells": [
  {
   "cell_type": "code",
   "execution_count": null,
   "id": "fd7da647",
   "metadata": {},
   "outputs": [],
   "source": [
    "# Defining Function\n",
    "from cmath import log, log10\n",
    "\n",
    "\n",
    "def f(x):\n",
    "    return x**3-9*x+3\n",
    "\n",
    "# Implementing False Position Method\n",
    "def falsePosition(x0,x1,e):\n",
    "    step = 1\n",
    "    print('\\n\\n*** FALSE POSITION METHOD IMPLEMENTATION ***')\n",
    "    condition = True\n",
    "    while condition:\n",
    "        x2 = x0 - (x1-x0) * f(x0)/( f(x1) - f(x0) )\n",
    "        print('Iteration-%d, x2 = %0.6f and f(x2) = %0.6f' % (step, x2, f(x2)))\n",
    "\n",
    "        if f(x0) * f(x2) < 0:\n",
    "            x1 = x2\n",
    "        else:\n",
    "            x0 = x2\n",
    "\n",
    "        step = step + 1\n",
    "        condition = abs(f(x2)) > e\n",
    "\n",
    "    print('\\nRequired root is: %0.8f' % x2)\n",
    "\n",
    "\n",
    "# Input Section\n",
    "x0 = input('First Guess: ')\n",
    "x1 = input('Second Guess: ')\n",
    "e = input('Tolerable Error: ')\n",
    "\n",
    "# Converting input to float\n",
    "x0 = float(x0)\n",
    "x1 = float(x1)\n",
    "e = float(e)\n",
    "\n",
    "#Note: You can combine above two section like this\n",
    "# x0 = float(input('First Guess: '))\n",
    "# x1 = float(input('Second Guess: '))\n",
    "# e = float(input('Tolerable Error: '))\n",
    "\n",
    "\n",
    "# Checking Correctness of initial guess values and false positioning\n",
    "if f(x0) * f(x1) > 0.0:\n",
    "    print('Given guess values do not bracket the root.')\n",
    "    print('Try Again with different guess values.')\n",
    "else:\n",
    "    falsePosition(x0,x1,e)\n",
    "\n"
   ]
  },
  {
   "cell_type": "code",
   "execution_count": null,
   "id": "092a34ce",
   "metadata": {},
   "outputs": [],
   "source": []
  },
  {
   "cell_type": "code",
   "execution_count": null,
   "id": "9766a316",
   "metadata": {},
   "outputs": [],
   "source": []
  },
  {
   "cell_type": "code",
   "execution_count": null,
   "id": "c552c8a0",
   "metadata": {},
   "outputs": [],
   "source": []
  }
 ],
 "metadata": {
  "kernelspec": {
   "display_name": "Python 3 (ipykernel)",
   "language": "python",
   "name": "python3"
  },
  "language_info": {
   "codemirror_mode": {
    "name": "ipython",
    "version": 3
   },
   "file_extension": ".py",
   "mimetype": "text/x-python",
   "name": "python",
   "nbconvert_exporter": "python",
   "pygments_lexer": "ipython3",
   "version": "3.10.4"
  }
 },
 "nbformat": 4,
 "nbformat_minor": 5
}
