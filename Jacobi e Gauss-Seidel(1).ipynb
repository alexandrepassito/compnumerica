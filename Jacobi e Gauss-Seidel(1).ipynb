{
 "cells": [
  {
   "cell_type": "code",
   "execution_count": 1,
   "id": "84a5ead5",
   "metadata": {},
   "outputs": [
    {
     "ename": "ModuleNotFoundError",
     "evalue": "No module named 'numpy'",
     "output_type": "error",
     "traceback": [
      "\u001b[0;31m---------------------------------------------------------------------------\u001b[0m",
      "\u001b[0;31mModuleNotFoundError\u001b[0m                       Traceback (most recent call last)",
      "Input \u001b[0;32mIn [1]\u001b[0m, in \u001b[0;36m<cell line: 3>\u001b[0;34m()\u001b[0m\n\u001b[1;32m      1\u001b[0m \u001b[38;5;28;01mfrom\u001b[39;00m \u001b[38;5;21;01mpprint\u001b[39;00m \u001b[38;5;28;01mimport\u001b[39;00m pprint\n\u001b[1;32m      2\u001b[0m \u001b[38;5;66;03m#from numpy import array, zeros, diag, diagflat, dot\u001b[39;00m\n\u001b[0;32m----> 3\u001b[0m \u001b[38;5;28;01mimport\u001b[39;00m \u001b[38;5;21;01mnumpy\u001b[39;00m \u001b[38;5;28;01mas\u001b[39;00m \u001b[38;5;21;01mnp\u001b[39;00m\n\u001b[1;32m      5\u001b[0m \u001b[38;5;28;01mdef\u001b[39;00m \u001b[38;5;21mjacobi\u001b[39m(A,b,N\u001b[38;5;241m=\u001b[39m\u001b[38;5;241m25\u001b[39m,x\u001b[38;5;241m=\u001b[39m\u001b[38;5;28;01mNone\u001b[39;00m):\n\u001b[1;32m      6\u001b[0m     \u001b[38;5;124;03m\"\"\"Solves the equation Ax=b via the Jacobi iterative method.\"\"\"\u001b[39;00m\n",
      "\u001b[0;31mModuleNotFoundError\u001b[0m: No module named 'numpy'"
     ]
    }
   ],
   "source": [
    "from pprint import pprint\n",
    "#from numpy import array, zeros, diag, diagflat, dot\n",
    "import numpy as np\n",
    "\n",
    "def jacobi(A,b,N=25,x=None):\n",
    "    \"\"\"Solves the equation Ax=b via the Jacobi iterative method.\"\"\"\n",
    "    # Create an initial guess if needed                                                                                                                                                            \n",
    "    if x is None:\n",
    "        x = np.zeros(len(A[0]))\n",
    "\n",
    "    # Create a vector of the diagonal elements of A                                                                                                                                                \n",
    "    # and subtract them from A                                                                                                                                                                     \n",
    "    D = np.diag(A)\n",
    "    print(D)\n",
    "    R = A - np.diagflat(D)\n",
    "    print(R)\n",
    "\n",
    "    # Iterate for N times                                                                                                                                                                          \n",
    "    for i in range(N):\n",
    "        x = (b - np.dot(R,x)) / D\n",
    "    return x\n",
    "\n",
    "def gauss_seidel(A, b, tolerance=1e-10, max_iterations=10000):\n",
    "    \n",
    "    x = np.zeros_like(b, dtype=np.double)\n",
    "    \n",
    "    #Iterate\n",
    "    for k in range(max_iterations):\n",
    "        \n",
    "        x_old  = x.copy()\n",
    "        \n",
    "        #Loop over rows\n",
    "        for i in range(A.shape[0]):\n",
    "            x[i] = (b[i] - np.dot(A[i,:i], x[:i]) - np.dot(A[i,(i+1):], x_old[(i+1):])) / A[i ,i]\n",
    "            \n",
    "        #Stop condition \n",
    "        #if np.linalg.norm(x - x_old, ord=np.inf) / np.linalg.norm(x, ord=np.inf) < tolerance:\n",
    "        #    break\n",
    "            \n",
    "    return x\n",
    "\n",
    "\n",
    "A = np.array([[10.0, 2.0, 3.0],[1.0, 5.0, 1.0],[2.0, 3.0, 10.0]])\n",
    "b = np.array([7.0, 8.0, 6.0])\n",
    "guess = np.array([0.0, 0.0, 0.0])\n",
    "\n",
    "sol = jacobi(A,b,N=10,x=guess)\n",
    "sol2 = gauss_seidel(A, b, tolerance=1e-10, max_iterations=10)\n",
    "\n",
    "print (\"A:\")\n",
    "pprint(A)\n",
    "\n",
    "print (\"b:\")\n",
    "pprint(b)\n",
    "\n",
    "print (\"x:\")\n",
    "pprint(sol)\n",
    "pprint(sol2)\n"
   ]
  },
  {
   "cell_type": "code",
   "execution_count": null,
   "id": "81390df4",
   "metadata": {},
   "outputs": [],
   "source": []
  }
 ],
 "metadata": {
  "kernelspec": {
   "display_name": "Python 3 (ipykernel)",
   "language": "python",
   "name": "python3"
  },
  "language_info": {
   "codemirror_mode": {
    "name": "ipython",
    "version": 3
   },
   "file_extension": ".py",
   "mimetype": "text/x-python",
   "name": "python",
   "nbconvert_exporter": "python",
   "pygments_lexer": "ipython3",
   "version": "3.10.4"
  }
 },
 "nbformat": 4,
 "nbformat_minor": 5
}
