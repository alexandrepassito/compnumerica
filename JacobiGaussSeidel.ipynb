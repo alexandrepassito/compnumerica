{
 "cells": [
  {
   "cell_type": "code",
   "execution_count": null,
   "id": "a1546b7f",
   "metadata": {},
   "outputs": [],
   "source": [
    "from pprint import pprint\n",
    "#from numpy import array, zeros, diag, diagflat, dot\n",
    "import numpy as np\n",
    "\n",
    "def jacobi(A,b,tolerance, maxk, x=None):\n",
    "    \"\"\"Solves the equation Ax=b via the Jacobi iterative method.\"\"\"\n",
    "    # Create an initial guess if needed                                                                                                                                                            \n",
    "    if x is None:\n",
    "        x = np.zeros(len(A[0]))\n",
    "    x_old = x\n",
    "\n",
    "\n",
    "    # Create a vector of the diagonal elements of A                                                                                                                                                \n",
    "    # and subtract them from A                                                                                                                                                                     \n",
    "    D = np.diag(A)\n",
    "    #print(D)\n",
    "    #print(np.diagflat(D))\n",
    "    R = A - np.diagflat(D)\n",
    "    #print(R)\n",
    "\n",
    "    # Iterate for N times                                                                                                                                                                           \n",
    "    for i in range(maxk):\n",
    "        x = (b - np.dot(R,x)) / D\n",
    "        d_k = np.amax(np.absolute(x - x_old))\n",
    "        dr_k = (d_k / np.amax(np.absolute(x)))\n",
    "        #print(\"dr_k\", dr_k)\n",
    "        #print(\"tolerance\", tolerance) \n",
    "        x_old = x\n",
    "        if (dr_k < tolerance):\n",
    "            break\n",
    "    return x\n",
    "\n",
    "\n",
    "def gauss_seidel(A,b,tolerance, maxk, x=None):\n",
    "    \n",
    "    # Create an initial guess if needed                                                                                                                                                            \n",
    "    if x is None:\n",
    "        x = np.zeros(len(A[0]))\n",
    "    x_old = x\n",
    "\n",
    "    n = len(A)\n",
    "\n",
    "    #Iterate\n",
    "    for k in range(maxk):\n",
    "        \n",
    "        x_old  = x.copy()\n",
    "  \n",
    "       #Loop over rows\n",
    "        for i in range(n):\n",
    "            x[i] = (b[i] - np.dot(A[i,:i], x[:i]) - np.dot(A[i,(i+1):], x_old[(i+1):])) / A[i ,i]\n",
    "            \n",
    "        #print(x)\n",
    "\n",
    "    return x\n",
    "\n",
    "\n",
    "\n"
   ]
  },
  {
   "cell_type": "code",
   "execution_count": null,
   "id": "e1af7e7a",
   "metadata": {},
   "outputs": [],
   "source": [
    "A = np.array([[10.0, 2.0, 3.0],[1.0, 5.0, 1.0],[2.0, 3.0, 10.0]])\n",
    "b = np.array([7.0, 8.0, 6.0])\n",
    "guess = np.array([0.7, -1.6, 0.6])\n",
    "tolerance = 5e-10\n",
    "k = 25\n",
    "\n",
    "sol = jacobi(A,b, tolerance, k, guess)\n",
    "print(\"Jacobi:\", sol)\n",
    "\n",
    "sol2 = gauss_seidel(A,b, tolerance, k, guess)\n",
    "print(\"Seidel:\", sol2)"
   ]
  },
  {
   "cell_type": "code",
   "execution_count": null,
   "id": "763489f8",
   "metadata": {},
   "outputs": [],
   "source": []
  }
 ],
 "metadata": {
  "kernelspec": {
   "display_name": "Python 3 (ipykernel)",
   "language": "python",
   "name": "python3"
  },
  "language_info": {
   "codemirror_mode": {
    "name": "ipython",
    "version": 3
   },
   "file_extension": ".py",
   "mimetype": "text/x-python",
   "name": "python",
   "nbconvert_exporter": "python",
   "pygments_lexer": "ipython3",
   "version": "3.10.6"
  }
 },
 "nbformat": 4,
 "nbformat_minor": 5
}
