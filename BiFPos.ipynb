{
 "cells": [
  {
   "cell_type": "code",
   "execution_count": null,
   "id": "3a1f5d22",
   "metadata": {},
   "outputs": [],
   "source": [
    "import math\n",
    "from numpy import sign\n",
    "from cmath import log, log10\n",
    "\n",
    "def bisection(f,x1,x2,tol, k_max):\n",
    "    y = 0\n",
    "\n",
    "    for i in range(k_max + 1):\n",
    "        x3 = 0.5*(x1 + x2); \n",
    "        if (abs(f(x3)) <= tol):\n",
    "            break\n",
    "        if sign(f(x1))!= sign(f(x3)): x2 = x3\n",
    "        else: x1 = x3\n",
    "        y = y + 1\n",
    "    return x3, y\n",
    "\n",
    "def falsePosition(f, x1,x2,e, k_max):\n",
    "    y = 0\n",
    "\n",
    "    for i in range(k_max + 1):\n",
    "        x3 = (x1 *f(x2) - x2 * f(x1)) / ( f(x2) - f(x1) )\n",
    "        if (abs(f(x3)) <= tol):\n",
    "            break\n",
    "        if sign(f(x1))!= sign(f(x3)): x2 = x3\n",
    "        else: x1 = x3\n",
    "        y = y + 1\n",
    "    return x3, y  \n",
    "\n",
    "\n",
    "tol = 2e-3\n",
    "x0 = 2.0\n",
    "x1 = 3.0\n",
    "k_max = 100\n",
    "\n",
    "#def f(x): return x**3 - 10.0*x**2 + 5.0  #0 - 1\n",
    "def f(x): return ((x * math.log10(x)) - 1)  #2 - 3\n",
    "#def f(x): return (x**2 + x - 6)  #1  - 2.5\n",
    "\n",
    "x, y = bisection(f, x0, x1, tol, k_max)\n",
    "print(f\"The Bisection root is {x} in {y} steps.\")\n",
    "x, y = falsePosition(f, x0, x1, tol, k_max)\n",
    "print(f\"The False Position root is {x} in {y} steps\")"
   ]
  },
  {
   "cell_type": "code",
   "execution_count": null,
   "id": "09926e19",
   "metadata": {},
   "outputs": [],
   "source": []
  }
 ],
 "metadata": {
  "kernelspec": {
   "display_name": "Python 3 (ipykernel)",
   "language": "python",
   "name": "python3"
  },
  "language_info": {
   "codemirror_mode": {
    "name": "ipython",
    "version": 3
   },
   "file_extension": ".py",
   "mimetype": "text/x-python",
   "name": "python",
   "nbconvert_exporter": "python",
   "pygments_lexer": "ipython3",
   "version": "3.10.6"
  }
 },
 "nbformat": 4,
 "nbformat_minor": 5
}
