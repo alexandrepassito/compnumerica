{
 "cells": [
  {
   "cell_type": "markdown",
   "metadata": {},
   "source": [
    "# Zero de Funções"
   ]
  },
  {
   "cell_type": "markdown",
   "metadata": {},
   "source": [
    "## Algoritmo da Bissecção"
   ]
  },
  {
   "cell_type": "markdown",
   "metadata": {},
   "source": [
    "**Execução do Programa**"
   ]
  },
  {
   "cell_type": "code",
   "execution_count": 25,
   "metadata": {},
   "outputs": [],
   "source": [
    "## module bisection\n",
    "##root = bisection(f,x1,x2,switch=0,tol=1.0e-9).\n",
    "##Finds a root of f(x) = 0 by bisection.\n",
    "##The root must be bracketed in (x1,x2).\n",
    "##Setting switch = 1 returns root = None if\n",
    "##f(x) increases upon bisection.\n"
   ]
  },
  {
   "cell_type": "code",
   "execution_count": 26,
   "metadata": {},
   "outputs": [],
   "source": [
    "import math\n",
    "from numpy import sign\n",
    "\n",
    "def bisection(f,x1,x2,switch=1,tol=1.0e-9):\n",
    "    f1 = f(x1)\n",
    "    if f1 == 0.0: return x1\n",
    "    f2 = f(x2)\n",
    "    if f2 == 0.0: return x2\n",
    "    if sign(f1) == sign(f2):\n",
    "        print(\"Root is not bracketed\")\n",
    "    n = int(math.ceil(math.log(abs(x2 - x1)/tol)/math.log(2.0)))\n",
    "    for i in range(n):\n",
    "        x3 = 0.5*(x1 + x2); \n",
    "        f3 = f(x3)\n",
    "        if (switch == 1) and (abs(f3) > abs(f1)) and (abs(f3) > abs(f2)):\n",
    "            return None\n",
    "        if f3 == 0.0: return x3\n",
    "        if sign(f2)!= sign(f3): x1 = x3; f1 = f3\n",
    "        else: x2 = x3; f2 = f3\n",
    "    return (x1 + x2)/2.0\n",
    "\n",
    "\n"
   ]
  },
  {
   "cell_type": "code",
   "execution_count": 22,
   "metadata": {},
   "outputs": [
    {
     "name": "stdout",
     "output_type": "stream",
     "text": [
      "x = 0.7346\n"
     ]
    }
   ],
   "source": [
    "def f(x): return x**3 - 10.0*x**2 + 5.0\n",
    "x = bisection(f, 0.0, 1.0, tol = 1.0e-4)\n",
    "print(\"x =\", \"{:6.4f}\".format(x))\n"
   ]
  },
  {
   "cell_type": "code",
   "execution_count": null,
   "metadata": {},
   "outputs": [],
   "source": []
  },
  {
   "cell_type": "code",
   "execution_count": null,
   "metadata": {},
   "outputs": [],
   "source": []
  },
  {
   "cell_type": "code",
   "execution_count": null,
   "metadata": {},
   "outputs": [],
   "source": []
  },
  {
   "cell_type": "code",
   "execution_count": null,
   "metadata": {},
   "outputs": [],
   "source": []
  }
 ],
 "metadata": {
  "kernelspec": {
   "display_name": "Python 3 (ipykernel)",
   "language": "python",
   "name": "python3"
  },
  "language_info": {
   "codemirror_mode": {
    "name": "ipython",
    "version": 3
   },
   "file_extension": ".py",
   "mimetype": "text/x-python",
   "name": "python",
   "nbconvert_exporter": "python",
   "pygments_lexer": "ipython3",
   "version": "3.9.5"
  }
 },
 "nbformat": 4,
 "nbformat_minor": 4
}
