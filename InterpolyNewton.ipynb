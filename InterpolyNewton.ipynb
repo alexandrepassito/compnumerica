{
 "cells": [
  {
   "cell_type": "code",
   "execution_count": null,
   "id": "0b177d92",
   "metadata": {},
   "outputs": [],
   "source": [
    "import pandas as pd\n",
    "import numpy as np\n",
    "\n",
    "def newton_interpolation(x, y, xi):\n",
    "    #length/number of datapoints\n",
    "    n = len(x)\n",
    "    #divided difference initialization\n",
    "    fdd = [[None for x in range(n)] for x in range(n)]\n",
    "    #f(X) values at different degrees\n",
    "    yint = [None for x in range(n)]\n",
    "    \n",
    "    #finding divided difference\n",
    "    for i in range(n):\n",
    "        fdd[i][0] = y[i]\n",
    "    for j in range(1,n):\n",
    "        for i in range(n-j):\n",
    "            fdd[i][j] = (fdd[i+1][j-1] - fdd[i][j-1])/(x[i+j]-x[i])\n",
    "    \n",
    "    #just printing dd here\n",
    "    fdd_table = pd.DataFrame(fdd)\n",
    "    print(fdd_table)\n",
    "    \n",
    "    #interpolating xi\n",
    "    xterm = 1\n",
    "    yint[0] = fdd[0][0]\n",
    "    for order in range(1, n):\n",
    "        xterm = xterm * (xi - x[order-1])\n",
    "        yint2 = yint[order-1] + fdd[0][order]*xterm\n",
    "        yint[order] = yint2\n",
    "    \n",
    "    return (yint2)\n",
    "\n",
    "\n",
    "x = [1250.0, 1000.0, 750.0]\n",
    "y = [25.0, 15.0, 10.0]\n",
    "\n",
    "a = newton_interpolation(x, y, 850)\n",
    "print(a)"
   ]
  },
  {
   "cell_type": "code",
   "execution_count": null,
   "id": "abe67f60",
   "metadata": {},
   "outputs": [],
   "source": []
  }
 ],
 "metadata": {
  "kernelspec": {
   "display_name": "Python 3 (ipykernel)",
   "language": "python",
   "name": "python3"
  },
  "language_info": {
   "codemirror_mode": {
    "name": "ipython",
    "version": 3
   },
   "file_extension": ".py",
   "mimetype": "text/x-python",
   "name": "python",
   "nbconvert_exporter": "python",
   "pygments_lexer": "ipython3",
   "version": "3.11.2"
  }
 },
 "nbformat": 4,
 "nbformat_minor": 5
}
