{
 "cells": [
  {
   "cell_type": "code",
   "execution_count": null,
   "id": "d443af86",
   "metadata": {},
   "outputs": [],
   "source": [
    "from math import sqrt\n",
    "from pprint import pprint\n",
    "import numpy as np\n",
    "\n",
    "def cholesky(A):\n",
    "    \"\"\"Performs a Cholesky decomposition of A, which must \n",
    "    be a symmetric and positive definite matrix. The function\n",
    "    returns the lower variant triangular matrix, L.\"\"\"\n",
    "    n = len(A)\n",
    "\n",
    "    # Create zero matrix for L\n",
    "    L = np.zeros_like(A)\n",
    "\n",
    "\n",
    "    # Perform the Cholesky decomposition\n",
    "    for i in range(n):\n",
    "        for k in range(i+1):\n",
    "            tmp_sum = sum(L[i,j] * L[k,j] for j in range(k))\n",
    "            \n",
    "            if (i == k): # Diagonal elements\n",
    "                # LaTeX: l_{kk} = \\sqrt{ a_{kk} - \\sum^{k-1}_{j=1} l^2_{kj}}\n",
    "                L[i,k] = sqrt(A[i,i] - tmp_sum)\n",
    "            else:\n",
    "                # LaTeX: l_{ik} = \\frac{1}{l_{kk}} \\left( a_{ik} - \\sum^{k-1}_{j=1} l_{ij} l_{kj} \\right)\n",
    "                L[i,k] = (1.0 / L[k,k] * (A[i,k] - tmp_sum))\n",
    "    return L\n",
    " \n",
    "def forward(L, y):\n",
    "    x = []\n",
    "    for i in range(len(y)):\n",
    "        x.append(y[i])\n",
    "        for j in range(i):\n",
    "            x[i]=x[i]-(L[i, j]*x[j])\n",
    "        x[i] = x[i]/L[i, i]\n",
    "    return x\n",
    "\n",
    "def backward(b, a):\n",
    "    n = len(a)\n",
    "    for k in range(n-1, -1, -1):\n",
    "        b[k] = (b[k] - np.dot(a[k, k+1:n], b[k+1:n]))/a[k, k]\n",
    "    return b"
   ]
  },
  {
   "cell_type": "code",
   "execution_count": null,
   "id": "15d5456b",
   "metadata": {},
   "outputs": [],
   "source": [
    "A = np.array([[4.0, -2.0, 2.0],\n",
    "[-2.0, 10.0, -7.0], \n",
    "[2.0, -7.0, 30.0]])\n",
    "\n",
    "B = np.array([[8.0, 11.0, -31.0]])\n",
    "\n",
    "G = cholesky(A)\n",
    "GT = G.transpose() \n",
    "\n",
    "print (\"A:\")\n",
    "print(A)\n",
    "\n",
    "print (\"G:\")\n",
    "print(G)\n",
    "\n",
    "print (\"GT:\")\n",
    "print(GT)\n",
    "\n",
    "y = forward(G,B[0])\n",
    "print(y)\n",
    "\n",
    "x = backward(y, GT)\n",
    "\n",
    "print('x = \\n', x)"
   ]
  },
  {
   "cell_type": "code",
   "execution_count": null,
   "id": "7cefbbf4",
   "metadata": {},
   "outputs": [],
   "source": []
  }
 ],
 "metadata": {
  "kernelspec": {
   "display_name": "Python 3 (ipykernel)",
   "language": "python",
   "name": "python3"
  },
  "language_info": {
   "codemirror_mode": {
    "name": "ipython",
    "version": 3
   },
   "file_extension": ".py",
   "mimetype": "text/x-python",
   "name": "python",
   "nbconvert_exporter": "python",
   "pygments_lexer": "ipython3",
   "version": "3.10.6"
  }
 },
 "nbformat": 4,
 "nbformat_minor": 5
}
